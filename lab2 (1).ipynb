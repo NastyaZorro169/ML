{
  "nbformat": 4,
  "nbformat_minor": 0,
  "metadata": {
    "colab": {
      "provenance": []
    },
    "kernelspec": {
      "name": "python3",
      "display_name": "Python 3"
    },
    "language_info": {
      "name": "python"
    }
  },
  "cells": [
    {
      "cell_type": "markdown",
      "source": [
        "# Лабораторная работа №2\n",
        "Глобальная оптимизация и метаэврестические алгоритмы\n",
        "\n",
        "  В Pygmo запрогроммировать две своих тестовых функции и найти их оптимум 3 разными алгоритмами доступными в библиотеке и получить таблицу сравнения"
      ],
      "metadata": {
        "id": "lwCIXP-4Kd6-"
      }
    },
    {
      "cell_type": "code",
      "source": [
        "!pip3 install pygmo"
      ],
      "metadata": {
        "colab": {
          "base_uri": "https://localhost:8080/"
        },
        "id": "06UTihfHKcGQ",
        "outputId": "1f2d03d2-ad14-449c-d6d5-84c7353e9bbb"
      },
      "execution_count": null,
      "outputs": [
        {
          "output_type": "stream",
          "name": "stdout",
          "text": [
            "Requirement already satisfied: pygmo in /usr/local/lib/python3.10/dist-packages (2.19.5)\n",
            "Requirement already satisfied: numpy in /usr/local/lib/python3.10/dist-packages (from pygmo) (1.23.5)\n",
            "Requirement already satisfied: cloudpickle in /usr/local/lib/python3.10/dist-packages (from pygmo) (2.2.1)\n",
            "Requirement already satisfied: scipy in /usr/local/lib/python3.10/dist-packages (from pygmo) (1.11.4)\n"
          ]
        }
      ]
    },
    {
      "cell_type": "code",
      "source": [
        "from matplotlib import pyplot as plt\n",
        "import pygmo as pg\n",
        "import numpy as np\n",
        "from typing import Mapping, Tuple\n",
        "import pandas as pd"
      ],
      "metadata": {
        "id": "nJR1Ods76R4Q"
      },
      "execution_count": null,
      "outputs": []
    },
    {
      "cell_type": "markdown",
      "source": [
        "Функции Бута и МакКормика, их области определения и глобальные минимумы"
      ],
      "metadata": {
        "id": "GCFGNJm3KxIo"
      }
    },
    {
      "cell_type": "code",
      "source": [
        "class Byta():\n",
        "  @staticmethod\n",
        "  def fitness(x):\n",
        "        return [(x[0] + 2 * x[1] - 7) ** 2 + (2 * x[0] + x[1] - 5) ** 2]\n",
        "\n",
        "  @staticmethod\n",
        "  def get_bounds():\n",
        "    return np.array([[-10, -10], [10, 10]])\n",
        "\n",
        "  @staticmethod\n",
        "  def get_min():\n",
        "        return np.array([1., 3., 0.])"
      ],
      "metadata": {
        "id": "xormx2b20R9R"
      },
      "execution_count": null,
      "outputs": []
    },
    {
      "cell_type": "code",
      "source": [
        "class MakKormik():\n",
        "  @staticmethod\n",
        "  def fitness(x):\n",
        "        return [np.sin(x[0] + x[1]) + (x[0] - x[1])**2 - float(1.5) * x[0] +  float(2.5) * x[1] + 1]\n",
        "\n",
        "  @staticmethod\n",
        "  def get_bounds():\n",
        "    return np.array([[-1.5, -3], [4, 4]])\n",
        "\n",
        "  @staticmethod\n",
        "  def get_min():\n",
        "        return np.array([-0.54719, -1.54719, -1.9133])\n"
      ],
      "metadata": {
        "id": "HaGyeZog0WJC"
      },
      "execution_count": null,
      "outputs": []
    },
    {
      "cell_type": "markdown",
      "source": [
        "Представляем общую задачу эволюционной оптимизации для заданных функций, это нужно для последующего решения"
      ],
      "metadata": {
        "id": "lUsE1UGgLHgH"
      }
    },
    {
      "cell_type": "code",
      "source": [
        "problem_byta = pg.problem(Byta())\n",
        "problem_mak = pg.problem(MakKormik())"
      ],
      "metadata": {
        "id": "qAEL3yUv7nbi"
      },
      "execution_count": null,
      "outputs": []
    },
    {
      "cell_type": "code",
      "source": [
        "def get_algo_pop(prob, algo_f: Mapping, pops: int = 1000, **params):\n",
        "    \"\"\"Get algo and pop\n",
        "\n",
        "       Args:\n",
        "           prob (Generic): общая задача\n",
        "           algo_f (Mapping): метод решения\n",
        "           pops (int, optional): количество \"особей\". Defaults to 1000\n",
        "           *kwargs: gen=..., limit=..., etc.\n",
        "\n",
        "       Return:\n",
        "           Tuple: algo, pop\n",
        "    \"\"\"\n",
        "    # ищем потенциальных кандидатов на решение данной проблемы\n",
        "    pop = pg.population(prob, pops)\n",
        "    # определяем для программы выбранный алгоритм оптимизации\n",
        "    algo = pg.algorithm(algo_f(**params))\n",
        "    #pop = pg.population(prob, pops)\n",
        "    # возвращаем новую популяцию, возникшую в ходе эволюции\n",
        "    pop = algo.evolve(pop)\n",
        "\n",
        "    return algo, pop"
      ],
      "metadata": {
        "id": "peLT99xsUEuj"
      },
      "execution_count": null,
      "outputs": []
    },
    {
      "cell_type": "code",
      "source": [
        "# Создание таблицы сравнения\n",
        "def table(v):\n",
        "  table = pd.DataFrame({'Значение':['X' , 'Y' , 'F' , 'E'],\n",
        "                        f'{v[0]}':[f'{v[1]}' , f'{v[2]}' , f'{v[3]}' , f'{v[3] - v[12][2]}'],\n",
        "                        f'{v[4]}':[f'{v[5]}' , f'{v[6]}' , f'{v[7]}' , f'{v[7] - v[12][2]}'],\n",
        "                        f'{v[8]}':[f'{v[9]}' , f'{v[10]}' , f'{v[11]}' , f'{v[11] - v[12][2]}']})\n",
        "# Выводим таблицу\n",
        "  print(table)"
      ],
      "metadata": {
        "id": "sDPc9hBTvdpG"
      },
      "execution_count": null,
      "outputs": []
    },
    {
      "cell_type": "code",
      "source": [
        "# de - Дифференциальная эволюция (DE)\n",
        "# sade - Самоадаптивное DE (jDE и iDE)\n",
        "# sga - Простой генетический алгоритм (sga)\n",
        "\n",
        "sade_byta_x, de_byta_x, sga_byta_x = 0.0, 0.0, 0.0\n",
        "sade_byta_y, de_byta_y, sga_byta_y = 0.0, 0.0, 0.0\n",
        "sade_byta_f, de_byta_f, sga_byta_f = 0.0, 0.0, 0.0\n",
        "for _ in range(10):\n",
        "  algo_1, pop_1 = get_algo_pop(problem_byta, pg.sade, gen=60)\n",
        "  algo_2, pop_2 = get_algo_pop(problem_byta, pg.de, gen=60)\n",
        "  algo_3, pop_3 = get_algo_pop(problem_byta, pg.sga, gen=60)\n",
        "  sade_byta_x += pop_1.champion_x[0]\n",
        "  de_byta_x += pop_2.champion_x[0]\n",
        "  sga_byta_x += pop_3.champion_x[0]\n",
        "  sade_byta_y += pop_1.champion_x[1]\n",
        "  de_byta_y += pop_2.champion_x[1]\n",
        "  sga_byta_y += pop_3.champion_x[1]\n",
        "  sade_byta_f += pop_1.champion_f\n",
        "  de_byta_f += pop_2.champion_f\n",
        "  sga_byta_f += pop_3.champion_f\n",
        "\n",
        "sade_byta_x = sade_byta_x / 10.0\n",
        "de_byta_x = de_byta_x / 10.0\n",
        "sga_byta_x = sga_byta_x / 10.0\n",
        "sade_byta_y = sade_byta_y / 10.0\n",
        "de_byta_y = de_byta_y / 10.0\n",
        "sga_byta_y = sga_byta_y / 10.0\n",
        "sade_byta_f = sade_byta_f / 10.0\n",
        "de_byta_f = de_byta_f / 10.0\n",
        "sga_byta_f = sga_byta_f / 10.0\n",
        "\n",
        "values_byta = ['Самоадаптивное DE', sade_byta_x, sade_byta_y, sade_byta_f, 'Дифференциальная эволюция', de_byta_x, de_byta_y, de_byta_f, 'Простой генетический алгоритм', sga_byta_x, sga_byta_y, sga_byta_f, Byta.get_min()]\n",
        "table(values_byta)"
      ],
      "metadata": {
        "colab": {
          "base_uri": "https://localhost:8080/"
        },
        "id": "Qm956nnXUAOb",
        "outputId": "add89cc7-64b3-4861-9536-f33aaab1d40c"
      },
      "execution_count": null,
      "outputs": [
        {
          "output_type": "stream",
          "name": "stdout",
          "text": [
            "  Значение   Самоадаптивное DE Дифференциальная эволюция (DE)  \\\n",
            "0        X  1.0000017489613402             1.0000008506304012   \n",
            "1        Y  2.9999957238754407             3.0000010241939443   \n",
            "2        F     [5.5795653e-10]               [1.54662789e-10]   \n",
            "3        E     [5.5795653e-10]               [1.54662789e-10]   \n",
            "\n",
            "  Простой генетический алгоритм  \n",
            "0            0.9918732935574447  \n",
            "1            3.0046654894106295  \n",
            "2                  [0.00320223]  \n",
            "3                  [0.00320223]  \n"
          ]
        }
      ]
    },
    {
      "cell_type": "code",
      "source": [],
      "metadata": {
        "id": "s_MklL_Tii9R"
      },
      "execution_count": null,
      "outputs": []
    },
    {
      "cell_type": "code",
      "source": [
        "# de - Дифференциальная эволюция (DE)\n",
        "# sade - Самоадаптивное DE (jDE и iDE)\n",
        "# sga - Простой генетический алгоритм (sga)\n",
        "\n",
        "sade_mak_x, de_mak_x, sga_mak_x = 0.0, 0.0, 0.0\n",
        "sade_mak_y, de_mak_y, sga_mak_y = 0.0, 0.0, 0.0\n",
        "sade_mak_f, de_mak_f, sga_mak_f = 0.0, 0.0, 0.0\n",
        "for _ in range(10):\n",
        "  algo_1, pop_1 = get_algo_pop(problem_mak, pg.sade, gen=60)\n",
        "  algo_2, pop_2 = get_algo_pop(problem_mak, pg.de, gen=60)\n",
        "  algo_3, pop_3 = get_algo_pop(problem_mak, pg.sga, gen=60)\n",
        "  sade_mak_x += pop_1.champion_x[0]\n",
        "  de_mak_x += pop_2.champion_x[0]\n",
        "  sga_mak_x += pop_3.champion_x[0]\n",
        "  sade_mak_y += pop_1.champion_x[1]\n",
        "  de_mak_y += pop_2.champion_x[1]\n",
        "  sga_mak_y += pop_3.champion_x[1]\n",
        "  sade_mak_f += pop_1.champion_f\n",
        "  de_mak_f += pop_2.champion_f\n",
        "  sga_mak_f += pop_3.champion_f\n",
        "\n",
        "sade_mak_x = sade_mak_x / 10.0\n",
        "de_mak_x = de_mak_x / 10.0\n",
        "sga_mak_x = sga_mak_x / 10.0\n",
        "sade_mak_y = sade_mak_y / 10.0\n",
        "de_mak_y = de_mak_y / 10.0\n",
        "sga_mak_y = sga_mak_y / 10.0\n",
        "sade_mak_f = sade_mak_f / 10.0\n",
        "de_mak_f = de_mak_f / 10.0\n",
        "sga_mak_f = sga_mak_f / 10.0\n",
        "\n",
        "values_mak = ['Самоадаптивное DE', sade_mak_x, sade_mak_y, sade_mak_f, 'Дифференциальная эволюция (DE)', de_mak_x, de_mak_y, de_mak_f, 'Простой генетический алгоритм', sga_mak_x, sga_mak_y, sga_mak_f, MakKormik.get_min()]\n",
        "table(values_mak)"
      ],
      "metadata": {
        "colab": {
          "base_uri": "https://localhost:8080/"
        },
        "outputId": "a64f3129-bb9f-4ac1-b7fc-1f3b05e5bf45",
        "id": "RkbHKx58wTzk"
      },
      "execution_count": null,
      "outputs": [
        {
          "output_type": "stream",
          "name": "stdout",
          "text": [
            "  Значение    Самоадаптивное DE Дифференциальная эволюция (DE)  \\\n",
            "0        X  -0.5471982256485438            -0.5471975112697162   \n",
            "1        Y  -1.5471973075643404            -1.5471959604991865   \n",
            "2        F        [-1.91322295]                  [-1.91322295]   \n",
            "3        E     [7.70450227e-05]               [7.70450715e-05]   \n",
            "\n",
            "  Простой генетический алгоритм  \n",
            "0           -0.5479683092012607  \n",
            "1           -1.5474899889702889  \n",
            "2                 [-1.91321777]  \n",
            "3              [8.22271187e-05]  \n"
          ]
        }
      ]
    }
  ]
}